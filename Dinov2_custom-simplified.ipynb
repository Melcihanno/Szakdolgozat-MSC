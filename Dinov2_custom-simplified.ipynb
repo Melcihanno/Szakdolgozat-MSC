{
 "cells": [
  {
   "cell_type": "code",
   "execution_count": 1,
   "id": "bdc2b047-b003-4b6d-a6d7-e1647e599956",
   "metadata": {},
   "outputs": [
    {
     "name": "stderr",
     "output_type": "stream",
     "text": [
      "/home/varga-denes/miniconda3/envs/dino/lib/python3.12/site-packages/albumentations/__init__.py:28: UserWarning: A new version of Albumentations is available: '2.0.7' (you have '2.0.4'). Upgrade using: pip install -U albumentations. To disable automatic update checks, set the environment variable NO_ALBUMENTATIONS_UPDATE to 1.\n",
      "  check_for_updates()\n"
     ]
    },
    {
     "data": {
      "text/plain": [
       "True"
      ]
     },
     "execution_count": 1,
     "metadata": {},
     "output_type": "execute_result"
    }
   ],
   "source": [
    "from transformers.modeling_outputs import SemanticSegmenterOutput  \n",
    "from transformers import Dinov2Model, Dinov2PreTrainedModel  \n",
    "from retouch_dataloader_utils import load_train_and_val  \n",
    "from torch.utils.tensorboard import SummaryWriter\n",
    "from aroi_dataloder_utils import load_val\n",
    "from torch.utils.data import DataLoader  \n",
    "from torch.utils.data import Dataset  \n",
    "import torch.nn.functional as F  \n",
    "from torch.optim import AdamW  \n",
    "from tqdm.auto import tqdm  \n",
    "import albumentations as A \n",
    "from PIL import Image  \n",
    "import pandas as pd\n",
    "import numpy as np  \n",
    "import torch  \n",
    "import cv2 \n",
    "import csv \n",
    "import os \n",
    "\n",
    "\n",
    "torch.cuda.is_available() "
   ]
  },
  {
   "cell_type": "code",
   "execution_count": 2,
   "id": "69083cc1-22d0-471a-8933-146d10a2f094",
   "metadata": {},
   "outputs": [],
   "source": [
    "#from datasets import load_dataset \n",
    "id2label = {\n",
    "    0:\"Background\",\n",
    "    1:\"IRF\",\n",
    "    2:\"SRF\",\n",
    "    3:\"PED\"\n",
    "}\n",
    "# map every class to a random color \n",
    "id2color = {k: list(np.random.choice(range(256), size=3)) for k,v in id2label.items()} "
   ]
  },
  {
   "cell_type": "code",
   "execution_count": 18,
   "id": "54a744e5-852a-4c72-87ff-3b95a1f14a74",
   "metadata": {
    "scrolled": true
   },
   "outputs": [],
   "source": [
    "class SegmentationDataset(Dataset): \n",
    "  def __init__(self, dataset, transform): \n",
    "    self.dataset = dataset \n",
    "    self.transform = transform \n",
    " \n",
    "  def __len__(self): \n",
    "    return len(self.dataset) \n",
    " \n",
    "  def __getitem__(self, idx): \n",
    "    item = self.dataset[idx] \n",
    "\n",
    "    original_image= np.load(item[\"image_path\"])\n",
    "    original_image = np.stack([original_image] * 3, axis=-1)\n",
    "\n",
    "    original_segmentation_map = np.load(item[\"label_path\"])\n",
    "    #print(\"Az image értékei\",np.min(original_image),np.max(original_image))\n",
    "    #print(\"A label értékei,\",np.min(original_segmentation_map),np.max(original_segmentation_map))\n",
    "    transformed = self.transform(image=original_image, mask=original_segmentation_map)\n",
    "    #kipróbálni hogy a maszkot is torzítja-e\n",
    "    image, target = torch.tensor(transformed['image']), torch.LongTensor(transformed['mask']) \n",
    " \n",
    "    # convert to C, H, W \n",
    "    image = image.permute(2, 0, 1)\n",
    "    image_path=item[\"image_path\"] \n",
    "      \n",
    "    return image, target, original_image, original_segmentation_map, image_path\n",
    " \n",
    "# Let's create the training and validation datasets (note that we only randomly crop for training images). \n",
    "ADE_MEAN = (np.array([123.675, 116.280, 103.530])).tolist()\n",
    "ADE_STD = (np.array([58.395, 57.120, 57.375])).tolist()\n",
    "#Ha a kép 0-255 akkor nem kell a /255 osztás\n",
    "#A transformokat leellenőrizni\n",
    " \n",
    "train_transform = A.Compose([ \n",
    "    A.Resize(width=448, height=448),\n",
    "    A.MedianBlur(blur_limit=5,p=0.5),\n",
    "    A.Normalize(mean=ADE_MEAN, std=ADE_STD),\n",
    "    #A.HorizontalFlip(p=0.5), #Horizontális tükrzözés az esetek 50%-ban\n",
    "    #A.GaussianBlur(p=0.5),\n",
    "], is_check_shapes=False) \n",
    " \n",
    "val_transform = A.Compose([ \n",
    "    A.Resize(width=448, height=448), \n",
    "    A.Normalize(mean=ADE_MEAN, std=ADE_STD), \n",
    "], is_check_shapes=False) "
   ]
  },
  {
   "cell_type": "code",
   "execution_count": 4,
   "id": "a586fe9e-fd7c-40c5-969b-c5fb1de7244e",
   "metadata": {},
   "outputs": [],
   "source": [
    "def collate_fn(inputs): \n",
    "    batch = dict() \n",
    "    batch[\"pixel_values\"] = torch.stack([i[0] for i in inputs], dim=0) \n",
    "    batch[\"labels\"] = torch.stack([i[1] for i in inputs], dim=0) \n",
    "    batch[\"original_images\"] = [i[2] for i in inputs] \n",
    "    batch[\"original_segmentation_maps\"] = [i[3] for i in inputs]\n",
    "    batch[\"image_path\"] = [i[4] for i in inputs]\n",
    " \n",
    "    return batch "
   ]
  },
  {
   "cell_type": "code",
   "execution_count": 5,
   "id": "7df3578b-a4e9-4f91-a32e-455203aa5e50",
   "metadata": {},
   "outputs": [],
   "source": [
    "class LinearClassifier(torch.nn.Module): \n",
    "    def __init__(self, in_channels, tokenW=32, tokenH=32, num_labels=1): \n",
    "        super(LinearClassifier, self).__init__() \n",
    " \n",
    "        self.in_channels = in_channels \n",
    "        self.width = tokenW \n",
    "        self.height = tokenH \n",
    "\n",
    "        #Két-réteg:\n",
    "        \n",
    "        #self.conv1 = torch.nn.Conv2d(in_channels, 64, (6,6), padding=1)\n",
    "        #self.conv2 = torch.nn.Conv2d(64, 128, (6,6), padding=1)\n",
    "        #self.classifier = torch.nn.Conv2d(128, num_labels, (1,1))\n",
    "\n",
    "        #Egy réteg:\n",
    "        self.conv = torch.nn.Conv2d(in_channels, 128, (6,6), padding=1)\n",
    "        self.classifier = torch.nn.Conv2d(128, num_labels, (1,1))\n",
    "\n",
    "    def forward(self, embeddings): \n",
    "        embeddings = embeddings.reshape(-1, self.height, self.width, self.in_channels) \n",
    "        embeddings = embeddings.permute(0,3,1,2) \n",
    "\n",
    "        #Két-réteg:\n",
    "        #x = torch.relu(self.conv1(embeddings))\n",
    "        #x = torch.relu(self.conv2(x))\n",
    "        #return self.classifier(x)\n",
    "        \n",
    "        #Egy-réteg\n",
    "        x = torch.relu(self.conv(embeddings))\n",
    "        return self.classifier(x)\n",
    " \n",
    " \n",
    "class Dinov2ForSemanticSegmentation(Dinov2PreTrainedModel): \n",
    "  def __init__(self, config): \n",
    "    super().__init__(config) \n",
    " \n",
    "    self.dinov2 = Dinov2Model(config) \n",
    "    self.classifier = LinearClassifier(config.hidden_size, 32, 32, config.num_labels) \n",
    " \n",
    "  def forward(self, pixel_values, output_hidden_states=False, output_attentions=False, labels=None): \n",
    "    # use frozen features \n",
    "    outputs = self.dinov2(pixel_values, \n",
    "                            output_hidden_states=output_hidden_states, \n",
    "                            output_attentions=output_attentions) \n",
    "    # get the patch embeddings - so we exclude the CLS token \n",
    "    patch_embeddings = outputs.last_hidden_state[:,1:,:] \n",
    " \n",
    "    # convert to logits and upsample to the size of the pixel values \n",
    "    logits = self.classifier(patch_embeddings) \n",
    "    #ezen később lehet változtatni\n",
    "    logits = torch.nn.functional.interpolate(logits, size=pixel_values.shape[2:], mode=\"bilinear\", align_corners=False) \n",
    " \n",
    "    loss = None \n",
    "    if labels is not None: \n",
    "      # important: we're going to use 0 here as ignore index instead of the default -100 \n",
    "      # as we don't want the model to learn to predict background \n",
    "      loss_fct = torch.nn.CrossEntropyLoss(ignore_index=0) \n",
    "      loss = loss_fct(logits.squeeze(), labels.squeeze()) \n",
    " \n",
    "    return SemanticSegmenterOutput( \n",
    "        loss=loss, \n",
    "        logits=logits, \n",
    "        hidden_states=outputs.hidden_states, \n",
    "        attentions=outputs.attentions, \n",
    "    ) \n"
   ]
  },
  {
   "cell_type": "code",
   "execution_count": 6,
   "id": "0ea9ad30-d1a7-4426-a8be-5b8c52754dbf",
   "metadata": {
    "jupyter": {
     "source_hidden": true
    }
   },
   "outputs": [],
   "source": [
    "def dice_loss(preds, targets, num_classes, smooth=1.0):\n",
    "    #print(\"preds dimenziója\",preds.shape)\n",
    "    #print(\"targets dimenziója\",targets.shape)\n",
    "    #preds dimenziója torch.Size([4, 4, 448, 448])\n",
    "    #targets dimenziója torch.Size([4, 448, 448])\n",
    "    \n",
    "    # Softmax alkalmazása a predikciókra (csatorna dimenzió mentén)\n",
    "    preds_softmax = F.softmax(preds, dim=1).float()\n",
    "\n",
    "    # One-hot kódolás helyett közvetlenül használjuk a softmax kimenetet\n",
    "    targets_one_hot = F.one_hot(targets, num_classes).permute(0, 3, 1, 2).float()\n",
    "\n",
    "    # Dice loss számítás\n",
    "    intersection = (preds_softmax * targets_one_hot).sum(dim=(2, 3))\n",
    "    union = preds_softmax.sum(dim=(2, 3)) + targets_one_hot.sum(dim=(2, 3))\n",
    "\n",
    "    #szélesség magasság felett aggregálni\n",
    "    #batch - példák között ne aggregálni\n",
    "    #csatornák felett nem muszáj\n",
    "\n",
    "    dice = (2.0 * intersection + smooth) / (union + smooth)\n",
    "    dice_loss = 1 - dice.mean()\n",
    "    \n",
    "    return dice_loss"
   ]
  },
  {
   "cell_type": "code",
   "execution_count": 7,
   "id": "5afa1046-d2be-4451-9fd7-847d99c16eeb",
   "metadata": {},
   "outputs": [],
   "source": [
    "def compute_dice_coefficient(preds, targets, num_classes, eps=1e-6):\n",
    "    preds_one_hot = torch.nn.functional.one_hot(preds, num_classes).permute(0, 3, 1, 2).float()\n",
    "    targets_one_hot = torch.nn.functional.one_hot(targets, num_classes).permute(0, 3, 1, 2).float()\n",
    "\n",
    "    #itt is át kell írni mint a lossnál\n",
    "    intersection = (preds_one_hot * targets_one_hot).sum(dim=(2, 3))\n",
    "    union = preds_one_hot.sum(dim=(2, 3)) + targets_one_hot.sum(dim=(2, 3))\n",
    "\n",
    "    dice = (2.0 * intersection + eps) / (union + eps)\n",
    "    return dice.mean().item()"
   ]
  },
  {
   "cell_type": "code",
   "execution_count": 8,
   "id": "5e014d5f-9fcb-4e32-a66a-ebfec2efa84f",
   "metadata": {},
   "outputs": [],
   "source": [
    "# def compute_dice_for_inference(3dpreds, 3dtargets, num_classes, eps=0):\n",
    "#aggregálni a szélességet, magasságot, és 128 vagy amennyi a dimenzió, ezt a permuteban\n",
    "# a függvény kimenete 4db dice érték\n",
    "def compute_dice_for_inference(preds, targets, num_classes, eps=0):\n",
    "    preds_one_hot = torch.nn.functional.one_hot(preds, num_classes).permute(0, 3, 1, 2).float()\n",
    "    targets_one_hot = torch.nn.functional.one_hot(targets, num_classes).permute(0, 3, 1, 2).float()\n",
    "\n",
    "    #itt is át kell írni mint a lossnál\n",
    "    intersection = (preds_one_hot * targets_one_hot).sum(dim=(2, 3))\n",
    "    union = preds_one_hot.sum(dim=(2, 3)) + targets_one_hot.sum(dim=(2, 3))\n",
    "\n",
    "    dice = (2.0 * intersection + eps) / (union + eps)\n",
    "    return dice"
   ]
  },
  {
   "cell_type": "code",
   "execution_count": 9,
   "id": "d852adc4-65bc-4e9d-adc8-6651081473a0",
   "metadata": {},
   "outputs": [],
   "source": [
    "def create_tensorboard_writer(logging_dir_name):\n",
    "    return SummaryWriter(log_dir=\"runs/\"+logging_dir_name)  # A logokat ebbe a mappába menti"
   ]
  },
  {
   "cell_type": "code",
   "execution_count": 10,
   "id": "f728ac38-66f4-48b5-8bdf-f4ead4827ca3",
   "metadata": {
    "scrolled": true
   },
   "outputs": [],
   "source": [
    "def training(epochs,learning_rate,cross_val,train_dataloader):\n",
    "    \n",
    "    logging_dir_name=str(epochs)+'_'+str(learning_rate)+'_'+str(cross_val)\n",
    "    writer=create_tensorboard_writer(logging_dir_name)\n",
    "    \n",
    "    model = Dinov2ForSemanticSegmentation.from_pretrained(\"facebook/dinov2-base\", id2label=id2label, num_labels=len(id2label)) \n",
    "     \n",
    "    for name, param in model.named_parameters(): \n",
    "      if name.startswith(\"dinov2\"): \n",
    "        param.requires_grad = False \n",
    "     \n",
    "    #outputs = model(pixel_values=batch[\"pixel_values\"], labels=batch[\"labels\"]) \n",
    "    \n",
    "    learning_rate=float(learning_rate)\n",
    "\n",
    "    optimizer = AdamW(model.parameters(), lr=learning_rate)\n",
    "    #optimizer = AdamW(model.parameters(), lr=0.01)\n",
    "    device = \"cuda\" if torch.cuda.is_available() else \"cpu\"\n",
    "    model.to(device)\n",
    "    \n",
    "    # Set model to training mode\n",
    "    model.train()\n",
    "    \n",
    "    # Define CrossEntropyLoss\n",
    "    ce_loss_fn = torch.nn.CrossEntropyLoss(ignore_index=0)  # Ignore background\n",
    "\n",
    "\n",
    "    #scheduler = torch.optim.lr_scheduler.PolynomialLR(optimizer,total_iters=10, power=3.0)\n",
    "    for epoch in range(epochs):\n",
    "        print(f\"Epoch {epoch+1}/{epochs}\")\n",
    "    \n",
    "        dice_score_avg = []\n",
    "        loss_avg = []\n",
    "        print(f\"Learning rate: {optimizer.param_groups[0]['lr']:.6f}\")\n",
    "        \n",
    "        for idx, batch in enumerate(tqdm(train_dataloader)):\n",
    "            pixel_values = batch[\"pixel_values\"].to(device)\n",
    "            labels = batch[\"labels\"].to(device)\n",
    "    \n",
    "            # Forward pass\n",
    "            outputs = model(pixel_values, labels=labels)\n",
    "            logits = outputs.logits\n",
    "            loss_ce = ce_loss_fn(logits.squeeze(), labels.squeeze())  # CE Loss\n",
    "    \n",
    "            # Get predicted class indices\n",
    "            preds = logits\n",
    "    \n",
    "            # Compute Dice loss\n",
    "            loss_dice = dice_loss(preds, labels, num_classes=len(id2label))\n",
    "    \n",
    "            # Combine losses (weighted sum)\n",
    "            loss = loss_ce + loss_dice  # You can adjust weights if needed\n",
    "            loss_avg.append(loss.item())\n",
    "            \n",
    "            # Backward pass\n",
    "            loss.backward()\n",
    "            optimizer.step()\n",
    "            optimizer.zero_grad()\n",
    "    \n",
    "            # Compute Dice coefficient (evaluation metric)\n",
    "            with torch.no_grad():\n",
    "                preds=logits.argmax(dim=1)\n",
    "                dice_score = compute_dice_coefficient(preds.detach().cpu(), labels.detach().cpu(), num_classes=len(id2label))\n",
    "                dice_score_avg.append(dice_score)\n",
    "                \n",
    "            # Print loss and metric every 100 batches\n",
    "            #if idx % 100 == 0:\n",
    "            #   print(f\"Step {idx}, Loss: {loss.item():.4f}, Dice Score: {dice_score:.4f}\")\n",
    "        print(\"Dice score average\",np.nanmean(dice_score_avg))\n",
    "        print(\"Loss average\",np.nanmean(loss_avg))\n",
    "        \n",
    "        writer.add_scalar(\"Loss/train\", np.nanmean(loss_avg), epoch)\n",
    "        writer.add_scalar(\"Accuracy/train\", np.nanmean(dice_score_avg), epoch)\n",
    "        #scheduler.step()\n",
    "        \n",
    "    writer.close()\n",
    "    return model"
   ]
  },
  {
   "cell_type": "code",
   "execution_count": 11,
   "id": "ba2cae56-9015-4946-9840-0a0ae6f9653a",
   "metadata": {},
   "outputs": [],
   "source": [
    "def run_inference(image_dir,model,val_dataloader,epoch,lr,cross_val):\n",
    "    device = \"cuda\" if torch.cuda.is_available() else \"cpu\"\n",
    "    \n",
    "    columns = [\"scan_number\", \"scan_index\", \"Background\", \"IRF\", \"SRF\", \"PED\"]\n",
    "    df = pd.DataFrame(columns=columns)\n",
    "    \n",
    "    for idx, batch in enumerate(tqdm(val_dataloader)):\n",
    "        scan_number = get_scan_number(image_dir,batch[\"image_path\"][0])\n",
    "        scan_index = get_scan_index(image_dir,batch[\"image_path\"][0])\n",
    "        test_image = batch[\"pixel_values\"]\n",
    "        labels = batch[\"labels\"]\n",
    "        with torch.no_grad():\n",
    "            outputs = model(test_image.to(device))\n",
    "            size=test_image.shape[:2]\n",
    "            logits = outputs.logits\n",
    "            preds = logits.argmax(dim=1)\n",
    "            dice_score = compute_dice_for_inference(preds.detach().cpu(), labels.detach().cpu(), num_classes=len(id2label))\n",
    "            dice_list = [round(val, 4) for val in dice_score.squeeze().tolist()]\n",
    "            df.loc[idx] = [scan_number,scan_index,dice_list[0],dice_list[1],dice_list[2],dice_list[3]]\n",
    "    csv_filename=str(epoch)+'_'+str(lr)+'_'+str(cross_val)+'.csv'\n",
    "    df.to_csv(csv_filename, index=False)\n",
    "    print(df.mean())"
   ]
  },
  {
   "cell_type": "code",
   "execution_count": 12,
   "id": "61745730-c22a-4af2-a480-95ac9f517934",
   "metadata": {},
   "outputs": [],
   "source": [
    "def log_run(epoch, lr, cross_val, inference_score):\n",
    "    log_file = \"run_logs.csv\"\n",
    "    file_exists = os.path.exists(log_file)\n",
    "    \n",
    "    # Megnyitjuk a fájlt hozzáfűzés (append) módban\n",
    "    with open(log_file, mode='a', newline='') as file:\n",
    "        writer = csv.writer(file)\n",
    "        \n",
    "        # Ha a fájl még nem létezik, írjuk be a fejlécet\n",
    "        if not file_exists:\n",
    "            writer.writerow([\"epoch\", \"learning_rate\", \"cross_validation\", \"inference_score\"])\n",
    "        \n",
    "        # Új sor hozzáfűzése a loghoz\n",
    "        writer.writerow([epoch, lr, cross_val, inference_score])\n",
    "    \n",
    "    print(f\"Log mentve: epoch={epoch}, lr={lr}, cross_val={cross_val}, inference_score={inference_score}\")"
   ]
  },
  {
   "cell_type": "code",
   "execution_count": 13,
   "id": "64f1202a-8733-4a6c-8d2b-2c330ab568df",
   "metadata": {},
   "outputs": [],
   "source": [
    "def get_scan_number(image_dir,path):\n",
    "    new_elem=path.replace(image_dir,'')\n",
    "    elem_list=new_elem.split('/')\n",
    "    return int(elem_list[1])"
   ]
  },
  {
   "cell_type": "code",
   "execution_count": 14,
   "id": "b46e96f4-a660-45f9-8051-8de9045bdef6",
   "metadata": {},
   "outputs": [],
   "source": [
    "def get_scan_index(image_dir,path):\n",
    "    new_elem=path.replace(image_dir,'')\n",
    "    elem_list=new_elem.split('/')\n",
    "    elem_list=elem_list[2].replace('.npy','')\n",
    "    elem_list=elem_list.split('_')\n",
    "    elem_list=elem_list[1]\n",
    "    return int(elem_list)"
   ]
  },
  {
   "cell_type": "code",
   "execution_count": 15,
   "id": "f5ba00eb-b368-4fc4-b0da-ed5980f6f9cb",
   "metadata": {},
   "outputs": [],
   "source": [
    "def run_train_with_cross_validation(epochs,learning_rates,cross_validation):\n",
    "    image_dir = '/media/varga-denes/linux-D/RETOUCH_TRAINING_NPY/imagesTr'\n",
    "    label_dir = '/media/varga-denes/linux-D/RETOUCH_TRAINING_NPY/labelsTr'\n",
    "    model_dir = '/media/varga-denes/E/modellek_augmentáció_variánsok/MedianBlur/'\n",
    "    for epoch in epochs:\n",
    "        for lr in learning_rates:\n",
    "            inference_values = []\n",
    "            for cross_val in range(cross_validation):\n",
    "                dataset = load_train_and_val(image_dir,label_dir,cross_validation,cross_val)\n",
    "\n",
    "                train_dataset = SegmentationDataset(dataset[\"train\"], transform=train_transform) \n",
    "                #val_dataset = SegmentationDataset(dataset[\"validation\"], transform=val_transform)\n",
    "                \n",
    "                train_dataloader = DataLoader(train_dataset, batch_size=4, shuffle=True, num_workers=0, pin_memory=True,collate_fn=collate_fn)\n",
    "                #val_dataloader = DataLoader(val_dataset, batch_size=1, shuffle=True, num_workers=4, pin_memory=True,collate_fn=collate_fn)\n",
    "                \n",
    "                model=training(epoch,lr,cross_val,train_dataloader)\n",
    "                #run_inference(image_dir,model,val_dataloader,epoch,lr,cross_val)\n",
    "                #inference_score=run_inference(image_dir,model,val_dataloader,epoch,lr,cross_val)\n",
    "\n",
    "                logging_model_name=model_dir+'/'+str(epoch)+'_'+str(lr)+'_'+str(cross_val)+'.pth'\n",
    "                torch.save(model.state_dict(),logging_model_name)\n",
    "                #log_run(epoch,lr,cross_val,inference_score)"
   ]
  },
  {
   "cell_type": "code",
   "execution_count": 19,
   "id": "db9ea07f-81a6-484c-83de-b1eb127815c0",
   "metadata": {
    "scrolled": true
   },
   "outputs": [
    {
     "name": "stderr",
     "output_type": "stream",
     "text": [
      "Some weights of Dinov2ForSemanticSegmentation were not initialized from the model checkpoint at facebook/dinov2-base and are newly initialized: ['classifier.classifier.bias', 'classifier.classifier.weight', 'classifier.conv.bias', 'classifier.conv.weight']\n",
      "You should probably TRAIN this model on a down-stream task to be able to use it for predictions and inference.\n"
     ]
    },
    {
     "name": "stdout",
     "output_type": "stream",
     "text": [
      "Epoch 1/10\n",
      "Learning rate: 0.001000\n"
     ]
    },
    {
     "data": {
      "application/vnd.jupyter.widget-view+json": {
       "model_id": "19df798c94eb4b1c9425fb62778f28ee",
       "version_major": 2,
       "version_minor": 0
      },
      "text/plain": [
       "  0%|          | 0/1353 [00:00<?, ?it/s]"
      ]
     },
     "metadata": {},
     "output_type": "display_data"
    },
    {
     "name": "stdout",
     "output_type": "stream",
     "text": [
      "Dice score average 0.2352454061816114\n",
      "Loss average 1.2015511480236203\n",
      "Epoch 2/10\n",
      "Learning rate: 0.001000\n"
     ]
    },
    {
     "data": {
      "application/vnd.jupyter.widget-view+json": {
       "model_id": "4a32cfc568f440e89713bd4e6f2bfee3",
       "version_major": 2,
       "version_minor": 0
      },
      "text/plain": [
       "  0%|          | 0/1353 [00:00<?, ?it/s]"
      ]
     },
     "metadata": {},
     "output_type": "display_data"
    },
    {
     "name": "stdout",
     "output_type": "stream",
     "text": [
      "Dice score average 0.2476672290136703\n",
      "Loss average 0.9986950557997915\n",
      "Epoch 3/10\n",
      "Learning rate: 0.001000\n"
     ]
    },
    {
     "data": {
      "application/vnd.jupyter.widget-view+json": {
       "model_id": "249acbac263c4c15b2ab63bb8f7e3901",
       "version_major": 2,
       "version_minor": 0
      },
      "text/plain": [
       "  0%|          | 0/1353 [00:00<?, ?it/s]"
      ]
     },
     "metadata": {},
     "output_type": "display_data"
    },
    {
     "name": "stdout",
     "output_type": "stream",
     "text": [
      "Dice score average 0.23078956349814106\n",
      "Loss average 0.9887388451378557\n",
      "Epoch 4/10\n",
      "Learning rate: 0.001000\n"
     ]
    },
    {
     "data": {
      "application/vnd.jupyter.widget-view+json": {
       "model_id": "013f66c6b3a84431b87fadc907b8b5d2",
       "version_major": 2,
       "version_minor": 0
      },
      "text/plain": [
       "  0%|          | 0/1353 [00:00<?, ?it/s]"
      ]
     },
     "metadata": {},
     "output_type": "display_data"
    },
    {
     "name": "stdout",
     "output_type": "stream",
     "text": [
      "Dice score average 0.25251835731119027\n",
      "Loss average 0.9292176175193001\n",
      "Epoch 5/10\n",
      "Learning rate: 0.001000\n"
     ]
    },
    {
     "data": {
      "application/vnd.jupyter.widget-view+json": {
       "model_id": "675d8e0aea064fcdbd5fc6b601d33582",
       "version_major": 2,
       "version_minor": 0
      },
      "text/plain": [
       "  0%|          | 0/1353 [00:00<?, ?it/s]"
      ]
     },
     "metadata": {},
     "output_type": "display_data"
    },
    {
     "name": "stdout",
     "output_type": "stream",
     "text": [
      "Dice score average 0.2507471124044807\n",
      "Loss average 0.9401630511359563\n",
      "Epoch 6/10\n",
      "Learning rate: 0.001000\n"
     ]
    },
    {
     "data": {
      "application/vnd.jupyter.widget-view+json": {
       "model_id": "b6b6c92974554e62a3fad8e64bb58910",
       "version_major": 2,
       "version_minor": 0
      },
      "text/plain": [
       "  0%|          | 0/1353 [00:00<?, ?it/s]"
      ]
     },
     "metadata": {},
     "output_type": "display_data"
    },
    {
     "name": "stdout",
     "output_type": "stream",
     "text": [
      "Dice score average 0.2511854655076994\n",
      "Loss average 0.9282946036123121\n",
      "Epoch 7/10\n",
      "Learning rate: 0.001000\n"
     ]
    },
    {
     "data": {
      "application/vnd.jupyter.widget-view+json": {
       "model_id": "6b4e0270522f4aec8dce9123ba84ddb6",
       "version_major": 2,
       "version_minor": 0
      },
      "text/plain": [
       "  0%|          | 0/1353 [00:00<?, ?it/s]"
      ]
     },
     "metadata": {},
     "output_type": "display_data"
    },
    {
     "name": "stdout",
     "output_type": "stream",
     "text": [
      "Dice score average 0.2573134317630675\n",
      "Loss average 0.899566045815615\n",
      "Epoch 8/10\n",
      "Learning rate: 0.001000\n"
     ]
    },
    {
     "data": {
      "application/vnd.jupyter.widget-view+json": {
       "model_id": "f44af192041f45f1bfb26136c4929398",
       "version_major": 2,
       "version_minor": 0
      },
      "text/plain": [
       "  0%|          | 0/1353 [00:00<?, ?it/s]"
      ]
     },
     "metadata": {},
     "output_type": "display_data"
    },
    {
     "name": "stdout",
     "output_type": "stream",
     "text": [
      "Dice score average 0.26297165061356137\n",
      "Loss average 0.8987125833638203\n",
      "Epoch 9/10\n",
      "Learning rate: 0.001000\n"
     ]
    },
    {
     "data": {
      "application/vnd.jupyter.widget-view+json": {
       "model_id": "e0d001e8cb8342d4bac03a517dfd7610",
       "version_major": 2,
       "version_minor": 0
      },
      "text/plain": [
       "  0%|          | 0/1353 [00:00<?, ?it/s]"
      ]
     },
     "metadata": {},
     "output_type": "display_data"
    },
    {
     "name": "stdout",
     "output_type": "stream",
     "text": [
      "Dice score average 0.27143844738547573\n",
      "Loss average 0.8922611237711208\n",
      "Epoch 10/10\n",
      "Learning rate: 0.001000\n"
     ]
    },
    {
     "data": {
      "application/vnd.jupyter.widget-view+json": {
       "model_id": "1f0f819393424b3282c38266eb24fe30",
       "version_major": 2,
       "version_minor": 0
      },
      "text/plain": [
       "  0%|          | 0/1353 [00:00<?, ?it/s]"
      ]
     },
     "metadata": {},
     "output_type": "display_data"
    },
    {
     "name": "stdout",
     "output_type": "stream",
     "text": [
      "Dice score average 0.271906598708582\n",
      "Loss average 0.8849080201460277\n"
     ]
    },
    {
     "name": "stderr",
     "output_type": "stream",
     "text": [
      "Some weights of Dinov2ForSemanticSegmentation were not initialized from the model checkpoint at facebook/dinov2-base and are newly initialized: ['classifier.classifier.bias', 'classifier.classifier.weight', 'classifier.conv.bias', 'classifier.conv.weight']\n",
      "You should probably TRAIN this model on a down-stream task to be able to use it for predictions and inference.\n"
     ]
    },
    {
     "name": "stdout",
     "output_type": "stream",
     "text": [
      "Epoch 1/10\n",
      "Learning rate: 0.001000\n"
     ]
    },
    {
     "data": {
      "application/vnd.jupyter.widget-view+json": {
       "model_id": "47a7355fd6744a6d814d8fdf70a62041",
       "version_major": 2,
       "version_minor": 0
      },
      "text/plain": [
       "  0%|          | 0/1353 [00:00<?, ?it/s]"
      ]
     },
     "metadata": {},
     "output_type": "display_data"
    },
    {
     "name": "stdout",
     "output_type": "stream",
     "text": [
      "Dice score average 0.21949076962554712\n",
      "Loss average 1.2500105062021096\n",
      "Epoch 2/10\n",
      "Learning rate: 0.001000\n"
     ]
    },
    {
     "data": {
      "application/vnd.jupyter.widget-view+json": {
       "model_id": "0a97802db9734195a3391af603d06bd7",
       "version_major": 2,
       "version_minor": 0
      },
      "text/plain": [
       "  0%|          | 0/1353 [00:00<?, ?it/s]"
      ]
     },
     "metadata": {},
     "output_type": "display_data"
    },
    {
     "name": "stdout",
     "output_type": "stream",
     "text": [
      "Dice score average 0.23093828746150002\n",
      "Loss average 1.0573020114148517\n",
      "Epoch 3/10\n",
      "Learning rate: 0.001000\n"
     ]
    },
    {
     "data": {
      "application/vnd.jupyter.widget-view+json": {
       "model_id": "ae7d68003bff43579cc692cffe92858d",
       "version_major": 2,
       "version_minor": 0
      },
      "text/plain": [
       "  0%|          | 0/1353 [00:00<?, ?it/s]"
      ]
     },
     "metadata": {},
     "output_type": "display_data"
    },
    {
     "name": "stdout",
     "output_type": "stream",
     "text": [
      "Dice score average 0.2450780983730677\n",
      "Loss average 0.9822203085178466\n",
      "Epoch 4/10\n",
      "Learning rate: 0.001000\n"
     ]
    },
    {
     "data": {
      "application/vnd.jupyter.widget-view+json": {
       "model_id": "85fbc93557d04f58a89d164e338c3185",
       "version_major": 2,
       "version_minor": 0
      },
      "text/plain": [
       "  0%|          | 0/1353 [00:00<?, ?it/s]"
      ]
     },
     "metadata": {},
     "output_type": "display_data"
    },
    {
     "name": "stdout",
     "output_type": "stream",
     "text": [
      "Dice score average 0.24414075512359165\n",
      "Loss average 0.9621131281894384\n",
      "Epoch 5/10\n",
      "Learning rate: 0.001000\n"
     ]
    },
    {
     "data": {
      "application/vnd.jupyter.widget-view+json": {
       "model_id": "c1b3dc0ad02640e2b955cccc4c7f453e",
       "version_major": 2,
       "version_minor": 0
      },
      "text/plain": [
       "  0%|          | 0/1353 [00:00<?, ?it/s]"
      ]
     },
     "metadata": {},
     "output_type": "display_data"
    },
    {
     "name": "stdout",
     "output_type": "stream",
     "text": [
      "Dice score average 0.2593854343833874\n",
      "Loss average 0.9219274808523021\n",
      "Epoch 6/10\n",
      "Learning rate: 0.001000\n"
     ]
    },
    {
     "data": {
      "application/vnd.jupyter.widget-view+json": {
       "model_id": "ac825f0f40794eb4bcff604dd4dbb42c",
       "version_major": 2,
       "version_minor": 0
      },
      "text/plain": [
       "  0%|          | 0/1353 [00:00<?, ?it/s]"
      ]
     },
     "metadata": {},
     "output_type": "display_data"
    },
    {
     "name": "stdout",
     "output_type": "stream",
     "text": [
      "Dice score average 0.2550264549801637\n",
      "Loss average 0.9320677359552255\n",
      "Epoch 7/10\n",
      "Learning rate: 0.001000\n"
     ]
    },
    {
     "data": {
      "application/vnd.jupyter.widget-view+json": {
       "model_id": "aa189caba93a42838272c9115812c644",
       "version_major": 2,
       "version_minor": 0
      },
      "text/plain": [
       "  0%|          | 0/1353 [00:00<?, ?it/s]"
      ]
     },
     "metadata": {},
     "output_type": "display_data"
    },
    {
     "name": "stdout",
     "output_type": "stream",
     "text": [
      "Dice score average 0.26133536175719385\n",
      "Loss average 0.8975037994169737\n",
      "Epoch 8/10\n",
      "Learning rate: 0.001000\n"
     ]
    },
    {
     "data": {
      "application/vnd.jupyter.widget-view+json": {
       "model_id": "8e49eda0a14144a8a7319565e30770bf",
       "version_major": 2,
       "version_minor": 0
      },
      "text/plain": [
       "  0%|          | 0/1353 [00:00<?, ?it/s]"
      ]
     },
     "metadata": {},
     "output_type": "display_data"
    },
    {
     "name": "stdout",
     "output_type": "stream",
     "text": [
      "Dice score average 0.2372798341583166\n",
      "Loss average 0.9384916612194686\n",
      "Epoch 9/10\n",
      "Learning rate: 0.001000\n"
     ]
    },
    {
     "data": {
      "application/vnd.jupyter.widget-view+json": {
       "model_id": "84ce716f76474ed8858d7a1ef2eb2f2d",
       "version_major": 2,
       "version_minor": 0
      },
      "text/plain": [
       "  0%|          | 0/1353 [00:00<?, ?it/s]"
      ]
     },
     "metadata": {},
     "output_type": "display_data"
    },
    {
     "name": "stdout",
     "output_type": "stream",
     "text": [
      "Dice score average 0.2503958608120878\n",
      "Loss average 0.8981233715916361\n",
      "Epoch 10/10\n",
      "Learning rate: 0.001000\n"
     ]
    },
    {
     "data": {
      "application/vnd.jupyter.widget-view+json": {
       "model_id": "0a457aed85ff49b5ad74b0618536302b",
       "version_major": 2,
       "version_minor": 0
      },
      "text/plain": [
       "  0%|          | 0/1353 [00:00<?, ?it/s]"
      ]
     },
     "metadata": {},
     "output_type": "display_data"
    },
    {
     "name": "stdout",
     "output_type": "stream",
     "text": [
      "Dice score average 0.2961521141522916\n",
      "Loss average 0.910443738268219\n"
     ]
    },
    {
     "name": "stderr",
     "output_type": "stream",
     "text": [
      "Some weights of Dinov2ForSemanticSegmentation were not initialized from the model checkpoint at facebook/dinov2-base and are newly initialized: ['classifier.classifier.bias', 'classifier.classifier.weight', 'classifier.conv.bias', 'classifier.conv.weight']\n",
      "You should probably TRAIN this model on a down-stream task to be able to use it for predictions and inference.\n"
     ]
    },
    {
     "name": "stdout",
     "output_type": "stream",
     "text": [
      "Epoch 1/10\n",
      "Learning rate: 0.001000\n"
     ]
    },
    {
     "data": {
      "application/vnd.jupyter.widget-view+json": {
       "model_id": "3bf6e96211d840e194bc543e9e2b249b",
       "version_major": 2,
       "version_minor": 0
      },
      "text/plain": [
       "  0%|          | 0/1401 [00:00<?, ?it/s]"
      ]
     },
     "metadata": {},
     "output_type": "display_data"
    },
    {
     "name": "stdout",
     "output_type": "stream",
     "text": [
      "Dice score average 0.2170291328769467\n",
      "Loss average 1.241873739298546\n",
      "Epoch 2/10\n",
      "Learning rate: 0.001000\n"
     ]
    },
    {
     "data": {
      "application/vnd.jupyter.widget-view+json": {
       "model_id": "4e46582260524791b259a8e1f149a203",
       "version_major": 2,
       "version_minor": 0
      },
      "text/plain": [
       "  0%|          | 0/1401 [00:00<?, ?it/s]"
      ]
     },
     "metadata": {},
     "output_type": "display_data"
    },
    {
     "name": "stdout",
     "output_type": "stream",
     "text": [
      "Dice score average 0.242974786791182\n",
      "Loss average 1.0243299932346503\n",
      "Epoch 3/10\n",
      "Learning rate: 0.001000\n"
     ]
    },
    {
     "data": {
      "application/vnd.jupyter.widget-view+json": {
       "model_id": "e45130bf1c894314b82551f8e52476b9",
       "version_major": 2,
       "version_minor": 0
      },
      "text/plain": [
       "  0%|          | 0/1401 [00:00<?, ?it/s]"
      ]
     },
     "metadata": {},
     "output_type": "display_data"
    },
    {
     "name": "stdout",
     "output_type": "stream",
     "text": [
      "Dice score average 0.23895131490810864\n",
      "Loss average 0.984691816950744\n",
      "Epoch 4/10\n",
      "Learning rate: 0.001000\n"
     ]
    },
    {
     "data": {
      "application/vnd.jupyter.widget-view+json": {
       "model_id": "6ccdb763955f449298a62bf285168b2d",
       "version_major": 2,
       "version_minor": 0
      },
      "text/plain": [
       "  0%|          | 0/1401 [00:00<?, ?it/s]"
      ]
     },
     "metadata": {},
     "output_type": "display_data"
    },
    {
     "name": "stdout",
     "output_type": "stream",
     "text": [
      "Dice score average 0.25840520482247087\n",
      "Loss average 0.9453184265743271\n",
      "Epoch 5/10\n",
      "Learning rate: 0.001000\n"
     ]
    },
    {
     "data": {
      "application/vnd.jupyter.widget-view+json": {
       "model_id": "2a96e5b787be40f2adc80fc8abd402af",
       "version_major": 2,
       "version_minor": 0
      },
      "text/plain": [
       "  0%|          | 0/1401 [00:00<?, ?it/s]"
      ]
     },
     "metadata": {},
     "output_type": "display_data"
    },
    {
     "name": "stdout",
     "output_type": "stream",
     "text": [
      "Dice score average 0.25805407218491494\n",
      "Loss average 0.9177640602105324\n",
      "Epoch 6/10\n",
      "Learning rate: 0.001000\n"
     ]
    },
    {
     "data": {
      "application/vnd.jupyter.widget-view+json": {
       "model_id": "96a9461ca6264fef8fcabbc788d4720a",
       "version_major": 2,
       "version_minor": 0
      },
      "text/plain": [
       "  0%|          | 0/1401 [00:00<?, ?it/s]"
      ]
     },
     "metadata": {},
     "output_type": "display_data"
    },
    {
     "name": "stdout",
     "output_type": "stream",
     "text": [
      "Dice score average 0.258013895756002\n",
      "Loss average 0.9217963103184953\n",
      "Epoch 7/10\n",
      "Learning rate: 0.001000\n"
     ]
    },
    {
     "data": {
      "application/vnd.jupyter.widget-view+json": {
       "model_id": "13d98dbd2f0246aa9e87a76f4f0d8e0d",
       "version_major": 2,
       "version_minor": 0
      },
      "text/plain": [
       "  0%|          | 0/1401 [00:00<?, ?it/s]"
      ]
     },
     "metadata": {},
     "output_type": "display_data"
    },
    {
     "name": "stdout",
     "output_type": "stream",
     "text": [
      "Dice score average 0.27191155556480345\n",
      "Loss average 0.9051702264332233\n",
      "Epoch 8/10\n",
      "Learning rate: 0.001000\n"
     ]
    },
    {
     "data": {
      "application/vnd.jupyter.widget-view+json": {
       "model_id": "b8ac0b22b44046fb867c9eb926e3722c",
       "version_major": 2,
       "version_minor": 0
      },
      "text/plain": [
       "  0%|          | 0/1401 [00:00<?, ?it/s]"
      ]
     },
     "metadata": {},
     "output_type": "display_data"
    },
    {
     "name": "stdout",
     "output_type": "stream",
     "text": [
      "Dice score average 0.2707995334686678\n",
      "Loss average 0.9250759011080639\n",
      "Epoch 9/10\n",
      "Learning rate: 0.001000\n"
     ]
    },
    {
     "data": {
      "application/vnd.jupyter.widget-view+json": {
       "model_id": "652fef951e724b318c2e03f01c8eeec6",
       "version_major": 2,
       "version_minor": 0
      },
      "text/plain": [
       "  0%|          | 0/1401 [00:00<?, ?it/s]"
      ]
     },
     "metadata": {},
     "output_type": "display_data"
    },
    {
     "name": "stdout",
     "output_type": "stream",
     "text": [
      "Dice score average 0.28124562594015884\n",
      "Loss average 0.8857136069819694\n",
      "Epoch 10/10\n",
      "Learning rate: 0.001000\n"
     ]
    },
    {
     "data": {
      "application/vnd.jupyter.widget-view+json": {
       "model_id": "654803fdf7ba4b1588d1d4d236c08837",
       "version_major": 2,
       "version_minor": 0
      },
      "text/plain": [
       "  0%|          | 0/1401 [00:00<?, ?it/s]"
      ]
     },
     "metadata": {},
     "output_type": "display_data"
    },
    {
     "name": "stdout",
     "output_type": "stream",
     "text": [
      "Dice score average 0.27455226235692626\n",
      "Loss average 0.8749005352385268\n"
     ]
    },
    {
     "name": "stderr",
     "output_type": "stream",
     "text": [
      "Some weights of Dinov2ForSemanticSegmentation were not initialized from the model checkpoint at facebook/dinov2-base and are newly initialized: ['classifier.classifier.bias', 'classifier.classifier.weight', 'classifier.conv.bias', 'classifier.conv.weight']\n",
      "You should probably TRAIN this model on a down-stream task to be able to use it for predictions and inference.\n"
     ]
    },
    {
     "name": "stdout",
     "output_type": "stream",
     "text": [
      "Epoch 1/10\n",
      "Learning rate: 0.001000\n"
     ]
    },
    {
     "data": {
      "application/vnd.jupyter.widget-view+json": {
       "model_id": "dc09fa7755fd49aaaccacac903df3508",
       "version_major": 2,
       "version_minor": 0
      },
      "text/plain": [
       "  0%|          | 0/1401 [00:00<?, ?it/s]"
      ]
     },
     "metadata": {},
     "output_type": "display_data"
    },
    {
     "name": "stdout",
     "output_type": "stream",
     "text": [
      "Dice score average 0.21783585157205512\n",
      "Loss average 1.2209367212008475\n",
      "Epoch 2/10\n",
      "Learning rate: 0.001000\n"
     ]
    },
    {
     "data": {
      "application/vnd.jupyter.widget-view+json": {
       "model_id": "3daa6821248e48f3b29fdb9a86262fa6",
       "version_major": 2,
       "version_minor": 0
      },
      "text/plain": [
       "  0%|          | 0/1401 [00:00<?, ?it/s]"
      ]
     },
     "metadata": {},
     "output_type": "display_data"
    },
    {
     "name": "stdout",
     "output_type": "stream",
     "text": [
      "Dice score average 0.212047941014862\n",
      "Loss average 1.0623123715852054\n",
      "Epoch 3/10\n",
      "Learning rate: 0.001000\n"
     ]
    },
    {
     "data": {
      "application/vnd.jupyter.widget-view+json": {
       "model_id": "3e8b472625c149ceb9525120acff33b6",
       "version_major": 2,
       "version_minor": 0
      },
      "text/plain": [
       "  0%|          | 0/1401 [00:00<?, ?it/s]"
      ]
     },
     "metadata": {},
     "output_type": "display_data"
    },
    {
     "name": "stdout",
     "output_type": "stream",
     "text": [
      "Dice score average 0.23247830560703434\n",
      "Loss average 1.0150336000950593\n",
      "Epoch 4/10\n",
      "Learning rate: 0.001000\n"
     ]
    },
    {
     "data": {
      "application/vnd.jupyter.widget-view+json": {
       "model_id": "57cb413748174e0499e46d1cae633d05",
       "version_major": 2,
       "version_minor": 0
      },
      "text/plain": [
       "  0%|          | 0/1401 [00:00<?, ?it/s]"
      ]
     },
     "metadata": {},
     "output_type": "display_data"
    },
    {
     "name": "stdout",
     "output_type": "stream",
     "text": [
      "Dice score average 0.2433290938174699\n",
      "Loss average 0.9365073278990295\n",
      "Epoch 5/10\n",
      "Learning rate: 0.001000\n"
     ]
    },
    {
     "data": {
      "application/vnd.jupyter.widget-view+json": {
       "model_id": "f9bf133e7148410c85d88d157611aab9",
       "version_major": 2,
       "version_minor": 0
      },
      "text/plain": [
       "  0%|          | 0/1401 [00:00<?, ?it/s]"
      ]
     },
     "metadata": {},
     "output_type": "display_data"
    },
    {
     "name": "stdout",
     "output_type": "stream",
     "text": [
      "Dice score average 0.25224271374119767\n",
      "Loss average 0.9212446820791206\n",
      "Epoch 6/10\n",
      "Learning rate: 0.001000\n"
     ]
    },
    {
     "data": {
      "application/vnd.jupyter.widget-view+json": {
       "model_id": "27bc6b709c0347b6bd17e26968e24577",
       "version_major": 2,
       "version_minor": 0
      },
      "text/plain": [
       "  0%|          | 0/1401 [00:00<?, ?it/s]"
      ]
     },
     "metadata": {},
     "output_type": "display_data"
    },
    {
     "name": "stdout",
     "output_type": "stream",
     "text": [
      "Dice score average 0.26124428208388234\n",
      "Loss average 0.8938037640351907\n",
      "Epoch 7/10\n",
      "Learning rate: 0.001000\n"
     ]
    },
    {
     "data": {
      "application/vnd.jupyter.widget-view+json": {
       "model_id": "7b2034c13e18492e81c2c3e272f60e0b",
       "version_major": 2,
       "version_minor": 0
      },
      "text/plain": [
       "  0%|          | 0/1401 [00:00<?, ?it/s]"
      ]
     },
     "metadata": {},
     "output_type": "display_data"
    },
    {
     "name": "stdout",
     "output_type": "stream",
     "text": [
      "Dice score average 0.2653336049849267\n",
      "Loss average 0.8954574631192451\n",
      "Epoch 8/10\n",
      "Learning rate: 0.001000\n"
     ]
    },
    {
     "data": {
      "application/vnd.jupyter.widget-view+json": {
       "model_id": "e4210df71f1d4d7eb7cc54f1f2b82b19",
       "version_major": 2,
       "version_minor": 0
      },
      "text/plain": [
       "  0%|          | 0/1401 [00:00<?, ?it/s]"
      ]
     },
     "metadata": {},
     "output_type": "display_data"
    },
    {
     "name": "stdout",
     "output_type": "stream",
     "text": [
      "Dice score average 0.25439373992495157\n",
      "Loss average 0.8950103170946755\n",
      "Epoch 9/10\n",
      "Learning rate: 0.001000\n"
     ]
    },
    {
     "data": {
      "application/vnd.jupyter.widget-view+json": {
       "model_id": "8f3425e945ba4a579fcdebb2494e3d25",
       "version_major": 2,
       "version_minor": 0
      },
      "text/plain": [
       "  0%|          | 0/1401 [00:00<?, ?it/s]"
      ]
     },
     "metadata": {},
     "output_type": "display_data"
    },
    {
     "name": "stdout",
     "output_type": "stream",
     "text": [
      "Dice score average 0.24923092499109442\n",
      "Loss average 0.9044664916824493\n",
      "Epoch 10/10\n",
      "Learning rate: 0.001000\n"
     ]
    },
    {
     "data": {
      "application/vnd.jupyter.widget-view+json": {
       "model_id": "4ea00bedcaf24ec3866f294f39e88996",
       "version_major": 2,
       "version_minor": 0
      },
      "text/plain": [
       "  0%|          | 0/1401 [00:00<?, ?it/s]"
      ]
     },
     "metadata": {},
     "output_type": "display_data"
    },
    {
     "name": "stdout",
     "output_type": "stream",
     "text": [
      "Dice score average 0.2463545988258679\n",
      "Loss average 1.0118876456117338\n"
     ]
    },
    {
     "name": "stderr",
     "output_type": "stream",
     "text": [
      "Some weights of Dinov2ForSemanticSegmentation were not initialized from the model checkpoint at facebook/dinov2-base and are newly initialized: ['classifier.classifier.bias', 'classifier.classifier.weight', 'classifier.conv.bias', 'classifier.conv.weight']\n",
      "You should probably TRAIN this model on a down-stream task to be able to use it for predictions and inference.\n"
     ]
    },
    {
     "name": "stdout",
     "output_type": "stream",
     "text": [
      "Epoch 1/10\n",
      "Learning rate: 0.001000\n"
     ]
    },
    {
     "data": {
      "application/vnd.jupyter.widget-view+json": {
       "model_id": "cd36094ec9ca46ff919d9e09cd84fe4b",
       "version_major": 2,
       "version_minor": 0
      },
      "text/plain": [
       "  0%|          | 0/1429 [00:00<?, ?it/s]"
      ]
     },
     "metadata": {},
     "output_type": "display_data"
    },
    {
     "name": "stdout",
     "output_type": "stream",
     "text": [
      "Dice score average 0.22137956727397784\n",
      "Loss average 1.2472989120505105\n",
      "Epoch 2/10\n",
      "Learning rate: 0.001000\n"
     ]
    },
    {
     "data": {
      "application/vnd.jupyter.widget-view+json": {
       "model_id": "f4db4b015c8442a1bd0dbadde2e33787",
       "version_major": 2,
       "version_minor": 0
      },
      "text/plain": [
       "  0%|          | 0/1429 [00:00<?, ?it/s]"
      ]
     },
     "metadata": {},
     "output_type": "display_data"
    },
    {
     "name": "stdout",
     "output_type": "stream",
     "text": [
      "Dice score average 0.2296675142028517\n",
      "Loss average 1.0138981818608497\n",
      "Epoch 3/10\n",
      "Learning rate: 0.001000\n"
     ]
    },
    {
     "data": {
      "application/vnd.jupyter.widget-view+json": {
       "model_id": "fb9f1d20c9dc4f3194eca11152476213",
       "version_major": 2,
       "version_minor": 0
      },
      "text/plain": [
       "  0%|          | 0/1429 [00:00<?, ?it/s]"
      ]
     },
     "metadata": {},
     "output_type": "display_data"
    },
    {
     "name": "stdout",
     "output_type": "stream",
     "text": [
      "Dice score average 0.22447795385952343\n",
      "Loss average 0.9880097535234399\n",
      "Epoch 4/10\n",
      "Learning rate: 0.001000\n"
     ]
    },
    {
     "data": {
      "application/vnd.jupyter.widget-view+json": {
       "model_id": "1ee79d63a9974cafac1cab5c4f26a9d9",
       "version_major": 2,
       "version_minor": 0
      },
      "text/plain": [
       "  0%|          | 0/1429 [00:00<?, ?it/s]"
      ]
     },
     "metadata": {},
     "output_type": "display_data"
    },
    {
     "name": "stdout",
     "output_type": "stream",
     "text": [
      "Dice score average 0.24490087688428025\n",
      "Loss average 0.9238921627287857\n",
      "Epoch 5/10\n",
      "Learning rate: 0.001000\n"
     ]
    },
    {
     "data": {
      "application/vnd.jupyter.widget-view+json": {
       "model_id": "9668cad5b1924f7e87c11d333c7ba317",
       "version_major": 2,
       "version_minor": 0
      },
      "text/plain": [
       "  0%|          | 0/1429 [00:00<?, ?it/s]"
      ]
     },
     "metadata": {},
     "output_type": "display_data"
    },
    {
     "name": "stdout",
     "output_type": "stream",
     "text": [
      "Dice score average 0.24429325764624701\n",
      "Loss average 0.918344292721965\n",
      "Epoch 6/10\n",
      "Learning rate: 0.001000\n"
     ]
    },
    {
     "data": {
      "application/vnd.jupyter.widget-view+json": {
       "model_id": "9af6050dc194470e939d5161ec21c0ea",
       "version_major": 2,
       "version_minor": 0
      },
      "text/plain": [
       "  0%|          | 0/1429 [00:00<?, ?it/s]"
      ]
     },
     "metadata": {},
     "output_type": "display_data"
    },
    {
     "name": "stdout",
     "output_type": "stream",
     "text": [
      "Dice score average 0.24484397526739193\n",
      "Loss average 0.9763959109013789\n",
      "Epoch 7/10\n",
      "Learning rate: 0.001000\n"
     ]
    },
    {
     "data": {
      "application/vnd.jupyter.widget-view+json": {
       "model_id": "5258b5397cd14d4cb1fe2b55d0683b3c",
       "version_major": 2,
       "version_minor": 0
      },
      "text/plain": [
       "  0%|          | 0/1429 [00:00<?, ?it/s]"
      ]
     },
     "metadata": {},
     "output_type": "display_data"
    },
    {
     "name": "stdout",
     "output_type": "stream",
     "text": [
      "Dice score average 0.25312796645935304\n",
      "Loss average 0.884163200764808\n",
      "Epoch 8/10\n",
      "Learning rate: 0.001000\n"
     ]
    },
    {
     "data": {
      "application/vnd.jupyter.widget-view+json": {
       "model_id": "5f001162474340b6bca9388cd4cc2245",
       "version_major": 2,
       "version_minor": 0
      },
      "text/plain": [
       "  0%|          | 0/1429 [00:00<?, ?it/s]"
      ]
     },
     "metadata": {},
     "output_type": "display_data"
    },
    {
     "name": "stdout",
     "output_type": "stream",
     "text": [
      "Dice score average 0.26270383369096767\n",
      "Loss average 0.9077869775093392\n",
      "Epoch 9/10\n",
      "Learning rate: 0.001000\n"
     ]
    },
    {
     "data": {
      "application/vnd.jupyter.widget-view+json": {
       "model_id": "725fce3ae61b40939a11ab74364d010d",
       "version_major": 2,
       "version_minor": 0
      },
      "text/plain": [
       "  0%|          | 0/1429 [00:00<?, ?it/s]"
      ]
     },
     "metadata": {},
     "output_type": "display_data"
    },
    {
     "name": "stdout",
     "output_type": "stream",
     "text": [
      "Dice score average 0.2428255837757409\n",
      "Loss average 0.9363043361089446\n",
      "Epoch 10/10\n",
      "Learning rate: 0.001000\n"
     ]
    },
    {
     "data": {
      "application/vnd.jupyter.widget-view+json": {
       "model_id": "e214cd889318441c8c65cc0fd8df1b7e",
       "version_major": 2,
       "version_minor": 0
      },
      "text/plain": [
       "  0%|          | 0/1429 [00:00<?, ?it/s]"
      ]
     },
     "metadata": {},
     "output_type": "display_data"
    },
    {
     "name": "stdout",
     "output_type": "stream",
     "text": [
      "Dice score average 0.2614892977697187\n",
      "Loss average 0.8870588417100435\n"
     ]
    }
   ],
   "source": [
    "epochs=[10]\n",
    "learning_rates=['1e-3']\n",
    "cross_validation=5\n",
    "run_train_with_cross_validation(epochs,learning_rates,cross_validation)\n",
    "#encoder nélkül lehet menteni"
   ]
  },
  {
   "cell_type": "code",
   "execution_count": 21,
   "id": "4ae25d13-6690-4ce1-b164-053c1039ee41",
   "metadata": {},
   "outputs": [],
   "source": [
    "def compute_dice_for_inference_3d(preds_3d, targets_3d, num_classes):\n",
    "    # shape: [D, H, W] -> [1, D, H, W]\n",
    "    preds_3d = preds_3d.unsqueeze(0).long()\n",
    "    targets_3d = targets_3d.unsqueeze(0).long()\n",
    "\n",
    "    # one-hot encode: [1, D, H, W, C]\n",
    "    preds_one_hot = torch.nn.functional.one_hot(preds_3d, num_classes=num_classes)\n",
    "    targets_one_hot = torch.nn.functional.one_hot(targets_3d, num_classes=num_classes)\n",
    "\n",
    "    # permute to [1, C, D, H, W]\n",
    "    preds_one_hot = preds_one_hot.permute(0, 4, 1, 2, 3).float()\n",
    "    targets_one_hot = targets_one_hot.permute(0, 4, 1, 2, 3).float()\n",
    "\n",
    "    # Dice computation over [D, H, W] for each class\n",
    "    intersection = (preds_one_hot * targets_one_hot).sum(dim=(2, 3, 4))\n",
    "    union = preds_one_hot.sum(dim=(2, 3, 4)) + targets_one_hot.sum(dim=(2, 3, 4))\n",
    "\n",
    "    dice = (2.0 * intersection) / (union + 1e-6)  # small epsilon to avoid division by 0\n",
    "\n",
    "    return dice.squeeze(0)  # shape: [num_classes]\n"
   ]
  },
  {
   "cell_type": "code",
   "execution_count": 20,
   "id": "c28dd2c4-9622-42c1-b340-49faae2ddbc9",
   "metadata": {},
   "outputs": [],
   "source": [
    "#Load model and run inference on it\n",
    "def run_3d_inference_on_models(epoch,learning_rate,cross_validation):\n",
    "    path='/media/varga-denes/E/modellek_augmentáció_variánsok/MedianBlur/'+str(epoch)+'_'+str(learning_rate)+'_'+str(cross_validation)+'.pth'\n",
    "    \n",
    "    model = Dinov2ForSemanticSegmentation.from_pretrained(\"facebook/dinov2-base\", id2label=id2label, num_labels=len(id2label))\n",
    "    model.load_state_dict(torch.load(path, weights_only=True))\n",
    "    \n",
    "    device = \"cuda\" if torch.cuda.is_available() else \"cpu\"\n",
    "    \n",
    "    image_dir = '/media/varga-denes/linux-D/RETOUCH_TRAINING_NPY/imagesTr'\n",
    "    label_dir = '/media/varga-denes/linux-D/RETOUCH_TRAINING_NPY/labelsTr'\n",
    "    dataset = load_train_and_val(image_dir,label_dir,5,cross_validation)\n",
    "\n",
    "    #image_dir = '/media/varga-denes/linux-D/AROI_VALIDATE/imagesTr'\n",
    "    #label_dir = '/media/varga-denes/linux-D/AROI_VALIDATE/labelsTr'\n",
    "    #dataset = load_val(image_dir,label_dir)\n",
    "    \n",
    "    for name, param in model.named_parameters(): \n",
    "      if name.startswith(\"dinov2\"): \n",
    "        param.requires_grad = False \n",
    "    \n",
    "    val_dataset = SegmentationDataset(dataset[\"validation\"], transform=val_transform)\n",
    "    \n",
    "    val_dataloader = DataLoader(val_dataset, batch_size=1, shuffle=False, num_workers=1, pin_memory=True,collate_fn=collate_fn)\n",
    "    \n",
    "    image_dict={}\n",
    "    label_dict={}\n",
    "    maxdict={}\n",
    "    for idx, batch in enumerate(tqdm(val_dataloader)):\n",
    "        scan_number = get_scan_number(image_dir,batch[\"image_path\"][0])\n",
    "        scan_index = get_scan_index(image_dir,batch[\"image_path\"][0])\n",
    "        key=str(scan_number)+'_'+str(scan_index)\n",
    "        image_dict[key]=batch[\"pixel_values\"]\n",
    "        label_dict[key]=batch[\"labels\"]\n",
    "    \n",
    "        if scan_number not in maxdict:\n",
    "            maxdict[scan_number] = scan_index\n",
    "        else:\n",
    "            maxdict[scan_number] = max(maxdict[scan_number], scan_index)\n",
    "            \n",
    "    model = model.to(device)\n",
    "    \n",
    "    columns = [\"scan_number\",\"Background\", \"IRF\", \"SRF\", \"PED\"]\n",
    "    df = pd.DataFrame(columns=columns)\n",
    "    \n",
    "    for idx,key in enumerate(maxdict.keys()):\n",
    "        value=maxdict[key]\n",
    "        preds_3d = []\n",
    "        labels_3d = []\n",
    "        for val in range(value+1):\n",
    "            keyval=str(key)+'_'+str(val)\n",
    "            test_image = image_dict[keyval]\n",
    "            labels = label_dict[keyval]\n",
    "            with torch.no_grad():\n",
    "                outputs = model(test_image.to(device))\n",
    "                size=test_image.shape[:2]\n",
    "                logits = outputs.logits\n",
    "                preds = logits.argmax(dim=1)\n",
    "                preds_3d.append(preds.squeeze(0).cpu())  # shape: [H, W]\n",
    "                labels_3d.append(labels.squeeze(0).cpu())  # shape: [H, W]\n",
    "    \n",
    "        # Stack to 3D: shape [D, H, W] where D = value+1\n",
    "        preds_3d = torch.stack(preds_3d, dim=0)\n",
    "        labels_3d = torch.stack(labels_3d, dim=0)\n",
    "                \n",
    "        dice_score = compute_dice_for_inference_3d(preds_3d.detach().cpu(), labels_3d.detach().cpu(), num_classes=len(id2label))\n",
    "        dice_list = [round(val, 4) for val in dice_score.squeeze().tolist()]\n",
    "        df.loc[idx] = [key,dice_list[0],dice_list[1],dice_list[2],dice_list[3]]\n",
    "        \n",
    "    csv_filename=str(epoch)+'_'+str(learning_rate)+'_'+str(cross_validation)+'_3d_inference.csv'\n",
    "    print(csv_filename,' Is ready!')\n",
    "    df.to_csv(csv_filename, index=False)"
   ]
  },
  {
   "cell_type": "code",
   "execution_count": 22,
   "id": "760ab228-0f93-49b8-adbb-d6310a3fa79e",
   "metadata": {},
   "outputs": [
    {
     "name": "stdout",
     "output_type": "stream",
     "text": [
      "0\n"
     ]
    },
    {
     "name": "stderr",
     "output_type": "stream",
     "text": [
      "Some weights of Dinov2ForSemanticSegmentation were not initialized from the model checkpoint at facebook/dinov2-base and are newly initialized: ['classifier.classifier.bias', 'classifier.classifier.weight', 'classifier.conv.bias', 'classifier.conv.weight']\n",
      "You should probably TRAIN this model on a down-stream task to be able to use it for predictions and inference.\n"
     ]
    },
    {
     "data": {
      "application/vnd.jupyter.widget-view+json": {
       "model_id": "aed0e5bf99b84ca0b99d0e7f98f60dee",
       "version_major": 2,
       "version_minor": 0
      },
      "text/plain": [
       "  0%|          | 0/1525 [00:00<?, ?it/s]"
      ]
     },
     "metadata": {},
     "output_type": "display_data"
    },
    {
     "name": "stdout",
     "output_type": "stream",
     "text": [
      "10_1e-3_0_3d_inference.csv  Is ready!\n",
      "1\n"
     ]
    },
    {
     "name": "stderr",
     "output_type": "stream",
     "text": [
      "Some weights of Dinov2ForSemanticSegmentation were not initialized from the model checkpoint at facebook/dinov2-base and are newly initialized: ['classifier.classifier.bias', 'classifier.classifier.weight', 'classifier.conv.bias', 'classifier.conv.weight']\n",
      "You should probably TRAIN this model on a down-stream task to be able to use it for predictions and inference.\n"
     ]
    },
    {
     "data": {
      "application/vnd.jupyter.widget-view+json": {
       "model_id": "2803a5494a8e4cc6b1b0e5de3da960e1",
       "version_major": 2,
       "version_minor": 0
      },
      "text/plain": [
       "  0%|          | 0/1525 [00:00<?, ?it/s]"
      ]
     },
     "metadata": {},
     "output_type": "display_data"
    },
    {
     "name": "stdout",
     "output_type": "stream",
     "text": [
      "10_1e-3_1_3d_inference.csv  Is ready!\n",
      "2\n"
     ]
    },
    {
     "name": "stderr",
     "output_type": "stream",
     "text": [
      "Some weights of Dinov2ForSemanticSegmentation were not initialized from the model checkpoint at facebook/dinov2-base and are newly initialized: ['classifier.classifier.bias', 'classifier.classifier.weight', 'classifier.conv.bias', 'classifier.conv.weight']\n",
      "You should probably TRAIN this model on a down-stream task to be able to use it for predictions and inference.\n"
     ]
    },
    {
     "data": {
      "application/vnd.jupyter.widget-view+json": {
       "model_id": "c88b540c1db349608312fbbbd664c82c",
       "version_major": 2,
       "version_minor": 0
      },
      "text/plain": [
       "  0%|          | 0/1333 [00:00<?, ?it/s]"
      ]
     },
     "metadata": {},
     "output_type": "display_data"
    },
    {
     "name": "stdout",
     "output_type": "stream",
     "text": [
      "10_1e-3_2_3d_inference.csv  Is ready!\n",
      "3\n"
     ]
    },
    {
     "name": "stderr",
     "output_type": "stream",
     "text": [
      "Some weights of Dinov2ForSemanticSegmentation were not initialized from the model checkpoint at facebook/dinov2-base and are newly initialized: ['classifier.classifier.bias', 'classifier.classifier.weight', 'classifier.conv.bias', 'classifier.conv.weight']\n",
      "You should probably TRAIN this model on a down-stream task to be able to use it for predictions and inference.\n"
     ]
    },
    {
     "data": {
      "application/vnd.jupyter.widget-view+json": {
       "model_id": "abaf74911729457d982217c7b371f3f9",
       "version_major": 2,
       "version_minor": 0
      },
      "text/plain": [
       "  0%|          | 0/1333 [00:00<?, ?it/s]"
      ]
     },
     "metadata": {},
     "output_type": "display_data"
    },
    {
     "name": "stdout",
     "output_type": "stream",
     "text": [
      "10_1e-3_3_3d_inference.csv  Is ready!\n",
      "4\n"
     ]
    },
    {
     "name": "stderr",
     "output_type": "stream",
     "text": [
      "Some weights of Dinov2ForSemanticSegmentation were not initialized from the model checkpoint at facebook/dinov2-base and are newly initialized: ['classifier.classifier.bias', 'classifier.classifier.weight', 'classifier.conv.bias', 'classifier.conv.weight']\n",
      "You should probably TRAIN this model on a down-stream task to be able to use it for predictions and inference.\n"
     ]
    },
    {
     "data": {
      "application/vnd.jupyter.widget-view+json": {
       "model_id": "c3e09059ef014d159948bd7e9eebc50a",
       "version_major": 2,
       "version_minor": 0
      },
      "text/plain": [
       "  0%|          | 0/1220 [00:00<?, ?it/s]"
      ]
     },
     "metadata": {},
     "output_type": "display_data"
    },
    {
     "name": "stdout",
     "output_type": "stream",
     "text": [
      "10_1e-3_4_3d_inference.csv  Is ready!\n"
     ]
    }
   ],
   "source": [
    "val_transform = A.Compose([ \n",
    "    A.Resize(width=448, height=448),\n",
    "    A.MedianBlur(blur_limit=5,p=0.5),\n",
    "    A.Normalize(mean=ADE_MEAN, std=ADE_STD),\n",
    "], is_check_shapes=False) \n",
    "\n",
    "epochs=[10]\n",
    "learning_rates=['1e-3']\n",
    "cross_validation=5\n",
    "for epoch in epochs:\n",
    "    for lr in learning_rates:\n",
    "        for cross_val in range(cross_validation):\n",
    "            print(cross_val)\n",
    "            run_3d_inference_on_models(epoch,lr,cross_val)"
   ]
  }
 ],
 "metadata": {
  "kernelspec": {
   "display_name": "Python 3 (ipykernel)",
   "language": "python",
   "name": "python3"
  },
  "language_info": {
   "codemirror_mode": {
    "name": "ipython",
    "version": 3
   },
   "file_extension": ".py",
   "mimetype": "text/x-python",
   "name": "python",
   "nbconvert_exporter": "python",
   "pygments_lexer": "ipython3",
   "version": "3.12.2"
  }
 },
 "nbformat": 4,
 "nbformat_minor": 5
}
