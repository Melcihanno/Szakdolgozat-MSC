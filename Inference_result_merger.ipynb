{
 "cells": [
  {
   "cell_type": "code",
   "execution_count": null,
   "id": "c28cf3f5-de33-4a15-b866-6a966ea9954a",
   "metadata": {},
   "outputs": [],
   "source": [
    "#Az alábbi kód végig iterál azokon a _3d_inference.csv-végződésű fájlokon \n",
    "#amelyek egy mappában vannak ezzel a fájlal és amelyeknek a paramétereit megadjuk a kombinációk részben\n",
    "#Végül az adatokat összesíti és exportálja inferenced_merged.xlsx excelként"
   ]
  },
  {
   "cell_type": "code",
   "execution_count": 1,
   "id": "604e9a55",
   "metadata": {},
   "outputs": [],
   "source": [
    "import pandas as pd\n",
    "import numpy as np\n",
    "import os.path\n",
    "import openpyxl\n",
    "import os"
   ]
  },
  {
   "cell_type": "code",
   "execution_count": 2,
   "id": "fd140e90",
   "metadata": {},
   "outputs": [],
   "source": [
    "CIRRUS=[1,24]\n",
    "SPECTRALIS=[25,48]\n",
    "TOPCON=[49,70]"
   ]
  },
  {
   "cell_type": "code",
   "execution_count": 3,
   "id": "841fcf3c",
   "metadata": {},
   "outputs": [],
   "source": [
    "#Kombinációk\n",
    "epochs = [10]\n",
    "learning_rates = ['1e-3']\n",
    "cross_validations = [0,1,2,3,4]"
   ]
  },
  {
   "cell_type": "code",
   "execution_count": 4,
   "id": "01a091a2",
   "metadata": {},
   "outputs": [],
   "source": [
    "def get_vendor(scan_number):\n",
    "    if 1 <= scan_number <= 24:\n",
    "        return 'CIRRUS'\n",
    "    elif 25 <= scan_number <= 48:\n",
    "        return 'SPECTRALIS'\n",
    "    elif 49 <= scan_number <= 70:\n",
    "        return 'TOPCON'\n",
    "    else:\n",
    "        return 'UNKNOWN'  # ha nem tartozik egyikbe sem"
   ]
  },
  {
   "cell_type": "code",
   "execution_count": 6,
   "id": "fd5daf5c",
   "metadata": {},
   "outputs": [],
   "source": [
    "#Végigmegy az összes file-on\n",
    "all_data = []\n",
    "for epoch in epochs:\n",
    "    for learning_rate in learning_rates:\n",
    "        for cross_validation in cross_validations:\n",
    "            filename=str(epoch)+'_'+str(learning_rate)+'_'+str(cross_validation)+'_3d_inference.csv'\n",
    "            if os.path.isfile(filename):\n",
    "                file=pd.read_csv(filename)\n",
    "                file['vendor'] = file['scan_number'].apply(get_vendor)\n",
    "                file['epoch'] = epoch\n",
    "                file['learning_rate'] = learning_rate\n",
    "                file['cross_validation'] = cross_validation\n",
    "                all_data.append(file)\n",
    "                \n",
    "            else:\n",
    "                print(filename,'File does not exsist')"
   ]
  },
  {
   "cell_type": "code",
   "execution_count": 7,
   "id": "2490b44c",
   "metadata": {},
   "outputs": [],
   "source": [
    "merged_data = pd.concat(all_data, ignore_index=True)"
   ]
  },
  {
   "cell_type": "code",
   "execution_count": 8,
   "id": "38e49ad3",
   "metadata": {},
   "outputs": [],
   "source": [
    "merged_data.to_excel('inference_merged.xlsx', index=False)"
   ]
  }
 ],
 "metadata": {
  "kernelspec": {
   "display_name": "Python 3 (ipykernel)",
   "language": "python",
   "name": "python3"
  },
  "language_info": {
   "codemirror_mode": {
    "name": "ipython",
    "version": 3
   },
   "file_extension": ".py",
   "mimetype": "text/x-python",
   "name": "python",
   "nbconvert_exporter": "python",
   "pygments_lexer": "ipython3",
   "version": "3.12.2"
  }
 },
 "nbformat": 4,
 "nbformat_minor": 5
}
