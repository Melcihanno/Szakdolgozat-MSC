{
 "cells": [
  {
   "cell_type": "code",
   "execution_count": 18,
   "id": "58f11813-469d-4197-a52c-2c90c81e86d2",
   "metadata": {},
   "outputs": [],
   "source": [
    "import os\n",
    "import cv2\n",
    "import nrrd\n",
    "import numpy as np\n",
    "import SimpleITK as sitk"
   ]
  },
  {
   "cell_type": "code",
   "execution_count": 36,
   "id": "42454a62-b841-46b5-adab-d8b87efbe9ed",
   "metadata": {},
   "outputs": [],
   "source": [
    "def create_retouch_files(path,end_folder):\n",
    "    final_folder=end_folder+'/'+'RETOCUH_TRAINING'\n",
    "    os.mkdir(final_folder)\n",
    "    \n",
    "    train_folder_path=final_folder+'/'+'imagesTr'\n",
    "    label_folder_path=final_folder+'/'+'labelsTr'\n",
    "    os.mkdir(train_folder_path)\n",
    "    os.mkdir(label_folder_path)\n",
    "    \n",
    "    for folder in os.listdir(path):\n",
    "        training_paths=path+'/'+folder\n",
    "        for in_folder in os.listdir(training_paths):\n",
    "            train_paths=training_paths+'/'+in_folder\n",
    "            patient_number=int(in_folder[5:])\n",
    "            for file in os.listdir(train_paths):\n",
    "                if file == 'oct.mhd':\n",
    "                    file_path=train_paths+'/'+file\n",
    "                    in_folders(train_folder_path,file_path,patient_number)\n",
    "                if file == 'reference.mhd':\n",
    "                    file_path=train_paths+'/'+file\n",
    "                    in_folders(label_folder_path,file_path,patient_number)"
   ]
  },
  {
   "cell_type": "code",
   "execution_count": 30,
   "id": "b0a07dae-df18-49e9-8e1b-2d975916f0f7",
   "metadata": {},
   "outputs": [],
   "source": [
    "# NRRD fájl beolvasása\n",
    "def get_data(fajl_utvonal):\n",
    "    try:\n",
    "        data, header = nrrd.read(fajl_utvonal)\n",
    "    except Exception as e:\n",
    "        print(\"Hiba történt a fájl beolvasása közben:\")\n",
    "        print(e)\n",
    "    return data"
   ]
  },
  {
   "cell_type": "code",
   "execution_count": 33,
   "id": "a7ec38f8-ab33-456a-a6dd-ceac212200b5",
   "metadata": {},
   "outputs": [],
   "source": [
    "def mask_image_by_values(image, allowed_values):\n",
    "    allowed_values = np.array(allowed_values)\n",
    "    mask = np.isin(image, allowed_values)\n",
    "    masked_image = np.where(mask, image, 0)\n",
    "\n",
    "    # Értékek cseréje\n",
    "    masked_image[masked_image == 5] = 3\n",
    "    masked_image[masked_image == 6] = 2\n",
    "    masked_image[masked_image == 7] = 1\n",
    "\n",
    "    return masked_image"
   ]
  },
  {
   "cell_type": "code",
   "execution_count": 34,
   "id": "65786a51-4ec3-424d-9a42-f39e95eedc2d",
   "metadata": {},
   "outputs": [],
   "source": [
    "def create_aroi_npy(folderpath,validate_path,isitlabel):\n",
    "    allowed=[0,5,6,7]\n",
    "    files = os.listdir(folderpath)\n",
    "    files.sort()\n",
    "    for i,file in enumerate(files):\n",
    "        j=i+1\n",
    "        utvonal= folderpath + '/' + file\n",
    "        print(j,utvonal)\n",
    "        data = get_data(utvonal)\n",
    "        new_folder = validate_path+'/'+str(j)\n",
    "        os.mkdir(new_folder)\n",
    "        data = get_data(utvonal)\n",
    "        slice_dimension= data.shape[2]\n",
    "        for slice in range(slice_dimension):\n",
    "            szelet = data[:,:,slice]\n",
    "            #label esetén más\n",
    "            szelet = cv2.rotate(szelet, cv2.ROTATE_90_CLOCKWISE)\n",
    "            if isitlabel:\n",
    "                szelet = mask_image_by_values(szelet,allowed)\n",
    "            save_path=new_folder+'/'+str(j)+'_'+str(slice)+'.npy'\n",
    "            with open(save_path, 'wb') as f:\n",
    "                np.save(f,szelet)"
   ]
  },
  {
   "cell_type": "code",
   "execution_count": 22,
   "id": "10d13e70-1aaf-4956-9924-fa02f14375e6",
   "metadata": {},
   "outputs": [],
   "source": [
    "def create_aroi_files(data_path,destination_path):\n",
    "    aroi_training=destination_path+'/'+'AROI_TRAINING'\n",
    "    imagestr=aroi_training+'/'+'imagesTr'\n",
    "    labelstr=aroi_training+'/'+'labelsTr'\n",
    "\n",
    "    os.mkdir(aroi_training)\n",
    "    os.mkdir(imagestr)\n",
    "    os.mkdir(labelstr)\n",
    "\n",
    "    data_imagestr=data_path+'/'+'imagesTr'\n",
    "    data_labelstr=data_path+'/'+'labelsTr'\n",
    "    create_aroi_npy(data_imagestr,imagestr,False)\n",
    "    create_aroi_npy(data_labelstr,labelstr,True)"
   ]
  },
  {
   "cell_type": "code",
   "execution_count": null,
   "id": "60ac53e4-5bd7-4d0c-808c-539b0b7f3342",
   "metadata": {},
   "outputs": [],
   "source": [
    "#Az alábbi két eljárás létrehozza az előre megadott mappákban npy-formátumban, patient_number-ként szétosztva a fájlokat\n",
    "#A RETOUCH adatoknak az alábbi mappaszerkezetben kell lenniük\n",
    "#\n",
    "#Mappanév pl:training_sets\n",
    "#\n",
    "# training_sets:\n",
    "#   RETOUCH-TrainingSetCirrus\n",
    "#   RETOUCH-TrainingSet-Spectralis\n",
    "#   RETOUCH-TrainingSet-Topcon\n",
    "\n",
    "#Az AROI adatoknak az alábbi mappaszerkezetben kell elhelyezkediük\n",
    "#\n",
    "# AROI_DATA:\n",
    "#   imagesTr\n",
    "#   labelsTr\n",
    "\n",
    "#A destionation_folder egy tetszőlegesen kiválasztott meghajtó vagy \n",
    "\n",
    "AROI_FOLDER=''\n",
    "RETOUCH_FOLDER=''\n",
    "\n",
    "create_aroi_files(AROI_FOLDER,destination_path)\n",
    "create_retouch_files(RETOUCH_FOLDER,destination_folder)"
   ]
  }
 ],
 "metadata": {
  "kernelspec": {
   "display_name": "Python 3 (ipykernel)",
   "language": "python",
   "name": "python3"
  },
  "language_info": {
   "codemirror_mode": {
    "name": "ipython",
    "version": 3
   },
   "file_extension": ".py",
   "mimetype": "text/x-python",
   "name": "python",
   "nbconvert_exporter": "python",
   "pygments_lexer": "ipython3",
   "version": "3.12.2"
  }
 },
 "nbformat": 4,
 "nbformat_minor": 5
}
